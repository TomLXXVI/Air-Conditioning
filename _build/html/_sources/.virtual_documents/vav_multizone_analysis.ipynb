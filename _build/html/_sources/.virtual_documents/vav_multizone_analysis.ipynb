from deps import load_packages
load_packages()


import jupyter_addons as ja
ja.set_css()


from hvac import Quantity
from hvac.fluids import HumidAir
from hvac.air_conditioning.vav_system.part_load import VAVSystem
from hvac.air_conditioning.vav_system import Zone, Season


Q_ = Quantity


zone_A = Zone(
    name='zone A',
    summer=Season(
        Q_sen=Q_(143_100, 'Btu / hr'),
        Q_lat=Q_(36_000, 'Btu / hr'),
        zone_air=HumidAir(Tdb=Q_(75.0, 'degF'), RH=Q_(50, 'pct')),
        m_supply=Q_(780.7, 'lb / min')
    )
)


zone_B = Zone(
    name='zone B',
    summer=Season(
        Q_sen=Q_(91_260, 'Btu / hr'),
        Q_lat=Q_(20_000, 'Btu / hr'),
        zone_air=HumidAir(Tdb=Q_(75.0, 'degF'), RH=Q_(50, 'pct')),
        m_supply=Q_(358.7, 'lb / min')
    )
)


outdoor_air = HumidAir(Tdb=Q_(77, 'degF'), W=Q_(0.0126, 'lb / lb'))


V_vent = Q_(2400, 'ft ** 3 / min')


T_supply = Q_(55, 'degF')


vav_system = VAVSystem(
    zones=[zone_A, zone_B],
    T_supply=T_supply,
    outdoor_air=outdoor_air,
    V_vent=V_vent
)


results = vav_system.part_load_summer(
    supply_fan_efficiency=Q_(60, 'pct'),
    suppy_fan_pressure=Q_(3.0, 'inch_H2O_60F')
)



