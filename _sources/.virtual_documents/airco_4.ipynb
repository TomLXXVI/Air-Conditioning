import deps
import jupyter_addons as ja
ja.set_css()


from airconditioning import (
    Quantity,
    HumidAir,
    Water,
    AirConditioningProcess,
    AdiabaticMixing,
    AirStream,
    Fan,
    PsychrometricChart,
    StatePoint
)

Qty = Quantity


return_air = HumidAir(T_db=Qty(78, 'degF'), RH=Qty(50.0, 'pct'))


Q_tot = Qty(120_000, 'Btu / hr')
SHR = Qty(70.0, 'pct')


V_vent = Qty(1000.0, 'ft ** 3 / min')
outdoor_air = HumidAir(T_db=Qty(95.0, 'degF'), RH=Qty(55.0, 'pct'))


T_supply = Qty(58.0, 'degF')


room = AirConditioningProcess(
    T_ai=T_supply,
    air_out=return_air,
    SHR=SHR,
    Q=Q_tot
)
supply_air = room.air_in

ja.display_list([
    f"supply air dry-bulb temperature = <b>{supply_air.T_db.to('degF'):~P.1f}</b>",
    f"supply air humidity ratio = <b>{supply_air.W.to('lb / lb'):~P.4f}</b>",
    f"supply air relative humidity = <b>{supply_air.RH.to('pct'):~P.0f}</b>",
    f"supply air enthalpy = <b>{supply_air.h.to('Btu / lb'):~P.0f}</b>"
])


m_supply = room.m_da

ja.display_list([
    f"supply air mass flow rate = <b>{m_supply.to('lb / hr'):~P.0f}</b>"
])


rho_outdoor = outdoor_air.rho
m_vent = rho_outdoor * V_vent


m_recir = m_supply - m_vent


mixing_chamber = AdiabaticMixing(
    in1=AirStream(state=return_air, m_da=m_recir),
    in2=AirStream(state=outdoor_air, m_da=m_vent),
    out=AirStream(m_da=m_supply)  # state of mixed air is unknown
)


mixed_air = mixing_chamber.stream_out.state

ja.display_list([
    f"mixed air dry-bulb temperature = <b>{mixed_air.T_db.to('degF'):~P.1f}</b>",
    f"mixed air wet-bulb temperature = <b>{mixed_air.T_wb.to('degF'):~P.1f}</b>",
    f"mixed air enthalpy = <b>{mixed_air.h.to('Btu / lb'):~P.1f}</b>",
    f"mixed air humidity ratio = <b>{mixed_air.W.to('lb / lb'):~P.5f}</b>",
])


fan = Fan(
    air_out=supply_air,
    fan_pressure=Qty(3.0, 'inch_H2O_60F'),
    fan_efficiency=Qty(70.0, 'pct'),
    motor_efficiency=Qty(84.0, 'pct'),
)

conditioned_air = fan.air_in

ja.display_list([
    f"conditioned air dry-bulb temperature = <b>{conditioned_air.T_db.to('degF'):~P.1f}</b>",
    f"conditioned air wet-bulb temperature = <b>{conditioned_air.T_wb.to('degF'):~P.1f}</b>",
    f"conditioned air enthalpy = <b>{conditioned_air.h.to('Btu / lb'):~P.1f}</b>",
    f"conditioned air humidty ratio = <b>{conditioned_air.W.to('lb / lb'):~P.5f}</b>",
])


cooling_coil = AirConditioningProcess(
    air_in=mixed_air,
    air_out=conditioned_air,
    m_da=m_supply,
    h_w=Qty(0.0, 'Btu / lb')
)

ja.display_list([
    f"coil heat removal rate = <b>{cooling_coil.Q.to('Btu / hr'):~P.0f}</b>"
])


psych_chart = PsychrometricChart()

psych_chart.plot_process(
    name='adiabatic mixing',
    start_point=StatePoint(outdoor_air.T_db, outdoor_air.W),
    end_point=StatePoint(return_air.T_db, return_air.W),
    mix_point=StatePoint(mixed_air.T_db, mixed_air.W)
)

psych_chart.plot_process(
    name='cooling coil',
    start_point=StatePoint(mixed_air.T_db, mixed_air.W),
    end_point=StatePoint(conditioned_air.T_db, conditioned_air.W)
)

psych_chart.plot_process(
    name='fan heating',
    start_point=StatePoint(conditioned_air.T_db, conditioned_air.W),
    end_point=StatePoint(supply_air.T_db, supply_air.W)
)

psych_chart.plot_process(
    name='space',
    start_point=StatePoint(supply_air.T_db, supply_air.W),
    end_point=StatePoint(return_air.T_db, return_air.W)
)

psych_chart.show()


return_air = HumidAir(T_db=Qty(78, 'degF'), RH=Qty(50.0, 'pct'))


Q_tot = Qty(120_000, 'Btu / hr')
SHR = Qty(50.0, 'pct')


V_vent = Qty(1000.0, 'ft ** 3 / min')
outdoor_air = HumidAir(T_db=Qty(95.0, 'degF'), RH=Qty(55.0, 'pct'))


cooled_air = HumidAir(T_db=Qty(58.0, 'degF'), RH=Qty(80.0, 'pct'))


room = AirConditioningProcess(
    W_ai=cooled_air.W,
    air_out=return_air,
    Q=Q_tot,
    SHR=SHR,
    h_w=Qty(0.0, 'Btu / lb')
)

supply_air = room.air_in

ja.display_list([
    f"supply air dry-bulb temperature = <b>{supply_air.T_db.to('degF'):~P.1f}</b>",
    f"supply air humidity ratio = <b>{supply_air.W.to('lb / lb'):~P.5f}</b>",
    f"supply air relative humidity = <b>{supply_air.RH.to('pct'):~P.0f}</b>",
    f"supply air enthalpy = <b>{supply_air.h.to('Btu / lb'):~P.0f}</b>"
])


m_supply = room.m_da

ja.display_list([
    f"supply air mass flow rate = <b>{m_supply.to('lb / hr'):~P.0f}</b>"
])


m_vent = outdoor_air.rho * V_vent
m_recir = m_supply - m_vent

mixing_chamber = AdiabaticMixing(
    in1=AirStream(state=return_air, m_da=m_recir),
    in2=AirStream(state=outdoor_air, m_da=m_vent),
    out=AirStream(m_da=m_supply)
)

mixed_air = mixing_chamber.stream_out.state

ja.display_list([
    f"mixed air dry-bulb temperature = <b>{mixed_air.T_db.to('degF'):~P.2f}</b>",
    f"mixed air enthalpy = <b>{mixed_air.h.to('Btu / lb'):~P.1f}</b>",
    f"mixed air humidty ratio = <b>{mixed_air.W.to('lb / lb'):~P.4f}</b>",
])


cooling_coil = AirConditioningProcess(
    air_in=mixed_air,
    air_out=cooled_air,
    m_da=m_supply,
    h_w=Qty(0.0, 'Btu / lb')
)

ja.display_list([
    f"coil heat removal rate = <b>{cooling_coil.Q.to('Btu / hr'):~P.0f}</b>"
])


reheat_coil = AirConditioningProcess(
    air_in=cooled_air,
    air_out=supply_air,
    m_da=m_supply,
    h_w=Qty(0.0, 'Btu / lb')
)

ja.display_list([
    f"reheat coil load = <b>{reheat_coil.Q.to('Btu / hr'):~P.0f}</b>"
])


psych_chart = PsychrometricChart()

psych_chart.plot_process(
    name='adiabatic mixing',
    start_point=StatePoint(outdoor_air.T_db, outdoor_air.W),
    end_point=StatePoint(return_air.T_db, return_air.W),
    mix_point=StatePoint(mixed_air.T_db, mixed_air.W)
)

psych_chart.plot_process(
    name='cooling coil',
    start_point=StatePoint(mixed_air.T_db, mixed_air.W),
    end_point=StatePoint(cooled_air.T_db, cooled_air.W)
)

psych_chart.plot_process(
    name='reheat coil',
    start_point=StatePoint(cooled_air.T_db, cooled_air.W),
    end_point=StatePoint(supply_air.T_db, supply_air.W)
)

psych_chart.plot_process(
    name='space',
    start_point=StatePoint(supply_air.T_db, supply_air.W),
    end_point=StatePoint(return_air.T_db, return_air.W)
)

psych_chart.show()


zone_air = HumidAir(T_db=Qty(72.0, 'degF'), RH=Qty(50.0, 'pct'))


Q_tot = Qty(-150_000, 'Btu / hr')  # minus sign: heat is removed from the room
SHR = Qty(0.8, 'frac')
Q_sen = Q_tot * SHR
Q_lat = Q_tot - Q_sen


outdoor_air = HumidAir(T_db=Qty(40.0, 'degF'), RH=Qty(40.0, 'pct'))
V_vent = Qty(1000.0, 'ft ** 3 / min')


m_supply = Qty(17140, 'lb / hr')


steam = Water(T=Qty(200.0, 'degF'), x=Qty(100.0, 'pct'))


m_vent = outdoor_air.rho * V_vent


m_recir = m_supply - m_vent


mixing_chamber = AdiabaticMixing(
    in1=AirStream(state=zone_air, m_da=m_recir),
    in2=AirStream(state=outdoor_air, m_da=m_vent),
    out=AirStream(m_da=m_supply)
)
mixed_air = mixing_chamber.stream_out.state

ja.display_list([
    f"mixed air dry-bulb temperature = <b>{mixed_air.T_db.to('degF'):~P.2f}</b>",
    f"mixed air enthalpy = <b>{mixed_air.h.to('Btu / lb'):~P.1f}</b>",
    f"mixed air humidity ratio = <b>{mixed_air.W.to('lb / lb'):~P.5f}</b>",
])


room = AirConditioningProcess(
    air_out=zone_air,
    Q_sen=Q_sen,  # sensible heat load
    Q_lat=Q_lat,  # humidification load
    m_da=m_supply,
    h_w=Qty(0.0, 'J / kg')
)
supply_air = room.air_in

ja.display_list([
    f"supply air dry-bulb temperature = <b>{supply_air.T_db.to('degF'):~P.1f}</b>",
    f"supply air humidity ratio = <b>{supply_air.W.to('lb / lb'):~P.4f}</b>",
    f"supply air relative humidity = <b>{supply_air.RH.to('pct'):~P.0f}</b>",
    f"supply air enthalpy = <b>{supply_air.h.to('Btu / lb'):~P.0f}</b>"
])


m_steam = (supply_air.W - mixed_air.W) * m_supply

humidifier = AirConditioningProcess(
    W_ai=mixed_air.W,
    air_out=supply_air,
    Q=Qty(0.0, 'kW'),
    m_da=m_supply,
    h_w=steam.h,
    m_w=m_steam
)

preheated_air = humidifier.air_in

ja.display_list([
    f"amount of steam needed = <b>{m_steam.to('lb / hr'):~P.2f}</b>",
    f"preheated air dry-bulb temperature = <b>{preheated_air.T_db.to('degF'):~P.1f}</b>",
    f"preheated air humidity ratio = <b>{preheated_air.W.to('lb / lb'):~P.4f}</b>",
    f"preheated air humidity relative humidity = <b>{preheated_air.RH.to('pct'):~P.0f}</b>",
    f"preheated air enthalpy = <b>{preheated_air.h.to('Btu / lb'):~P.0f}</b>"
])


preheater = AirConditioningProcess(
    air_in=mixed_air,
    air_out=preheated_air,
    m_da=m_supply,
    h_w=Qty(0.0, 'Btu / lb')
)

ja.display_list([
    f"preheat coil load = <b>{preheater.Q.to('Btu / hr'):~P.0f}</b>"
])


psych_chart = PsychrometricChart()

psych_chart.plot_process(
    name='adiabatic mixing',
    start_point=StatePoint(outdoor_air.T_db, outdoor_air.W),
    end_point=StatePoint(zone_air.T_db, zone_air.W),
    mix_point=StatePoint(mixed_air.T_db, mixed_air.W)
)

psych_chart.plot_process(
    name='preheat coil',
    start_point=StatePoint(mixed_air.T_db, mixed_air.W),
    end_point=StatePoint(preheated_air.T_db, preheated_air.W)
)

psych_chart.plot_process(
    name='steam injection',
    start_point=StatePoint(preheated_air.T_db, preheated_air.W),
    end_point=StatePoint(supply_air.T_db, supply_air.W)
)

psych_chart.plot_process(
    name='space',
    start_point=StatePoint(supply_air.T_db, supply_air.W),
    end_point=StatePoint(zone_air.T_db, zone_air.W)
)

psych_chart.show()


T_zone = Qty(78.0, 'degF')


outdoor_air = HumidAir(T_db=Qty(80.0, 'degF'), RH=Qty(0.6, 'frac'))


Q_tot = Qty(70_000, 'Btu / hr')
SHR = Qty(0.7, 'frac')
Q_sen = SHR * Q_tot
Q_lat = Q_tot - Q_sen


V_vent = Qty(1000, 'ft ** 3 / min')


m_supply = Qty(17_140, 'lb / hr')  # from example 19.1


cooled_air = HumidAir(T_db=Qty(58.0, 'degF'), RH=Qty(0.8, 'frac'))


m_vent = outdoor_air.rho * V_vent

ja.display_list([
    f"outdoor air mass flow rate = <b>{m_vent.to('lb / hr'):~P.0f}</b>"
])


room = AirConditioningProcess(
    T_ao=T_zone,
    m_da=m_supply,
    Q_sen=Q_sen
)

T_supply = room.T_ai

ja.display_list([
    f"supply air temperature = <b>{T_supply.to('degF'):~P.1f}</b>"
])


supply_air = HumidAir(T_db=T_supply, W=cooled_air.W)


room = AirConditioningProcess(
    air_in=supply_air,
    Q_lat=Q_lat,
    h_w=Qty(0.0, 'Btu / lb'),
    m_da=m_supply
)

W_zone = room.W_ao


zone_air = HumidAir(T_db=T_zone, W=W_zone)

ja.display_list([
    f"space air humidity ratio = <b>{zone_air.W.to('lb / lb'):~P.5f}</b>",
    f"space air relative humidity = <b>{zone_air.RH.to('pct'):~P.0f}</b>"
])


m_recir = m_supply - m_vent

mixing_chamber = AdiabaticMixing(
    in1=AirStream(state=zone_air, m_da=m_recir),
    in2=AirStream(state=outdoor_air, m_da=m_vent),
    out=AirStream(m_da=m_supply)
)

mixed_air = mixing_chamber.stream_out.state

ja.display_list([
    f"mixed air dry-bulb temperature = <b>{mixed_air.T_db.to('degF'):~P.1f}</b>",
    f"mixed air humidity ratio = <b>{mixed_air.W.to('lb / lb'):~P.4f}</b>"
])


cooling_coil = AirConditioningProcess(
    air_in=mixed_air,
    air_out=cooled_air,
    m_da=m_supply,
    h_w=Qty(0.0, 'Btu / lb')
)

ja.display_list([
    f"total cooling coil load = <b>{cooling_coil.Q.to('Btu / hr'):~P.0f}</b>",
    f"sensible cooling coil load = <b>{cooling_coil.Q_sen.to('Btu / hr'):~P.0f}</b>",
    f"latent cooling coil load = <b>{cooling_coil.Q_lat.to('Btu / hr'):~P.0f}</b>",
])


reheat_coil = AirConditioningProcess(
    air_in=cooled_air,
    air_out=supply_air,
    m_da=m_supply,
    h_w=Qty(0.0, 'Btu / lb'),
)

ja.display_list([
    f"reheat load = <b>{reheat_coil.Q.to('Btu / hr'):~P.0f}</b>"
])


psych_chart = PsychrometricChart()

psych_chart.plot_process(
    name='adiabatic mixing',
    start_point=StatePoint(outdoor_air.T_db, outdoor_air.W),
    end_point=StatePoint(zone_air.T_db, zone_air.W),
    mix_point=StatePoint(mixed_air.T_db, mixed_air.W)
)

psych_chart.plot_process(
    name='cooling coil',
    start_point=StatePoint(mixed_air.T_db, mixed_air.W),
    end_point=StatePoint(cooled_air.T_db, cooled_air.W)
)

psych_chart.plot_process(
    name='reheat coil',
    start_point=StatePoint(cooled_air.T_db, cooled_air.W),
    end_point=StatePoint(supply_air.T_db, supply_air.W)
)

psych_chart.plot_process(
    name='space',
    start_point=StatePoint(supply_air.T_db, supply_air.W),
    end_point=StatePoint(zone_air.T_db, zone_air.W)
)

psych_chart.show()


T_zone = Qty(78.0, 'degF')       # from example 19.1

Q_tot = Qty(70_000, 'Btu / hr')  # part-load
SHR = Qty(0.7, 'frac')
Q_sen = SHR * Q_tot
Q_lat = Q_tot - Q_sen

outdoor_air = HumidAir(T_db=Qty(80.0, 'degF'), RH=Qty(0.6, 'frac'))  # part-load
V_vent = Qty(1000, 'ft ** 3 / min')

cooled_air = HumidAir(T_db=Qty(58.0, 'degF'), RH=Qty(0.8, 'frac'))


T_supply = cooled_air.T_db

room = AirConditioningProcess(
    T_ai=T_supply,
    T_ao=T_zone,
    Q_sen=Q_sen
)

m_supply = room.m_da

ja.display_list([
    f"supply air mass flow rate = <b>{m_supply.to('lb / hr'):~P.1f}</b>"
])


W_supply = cooled_air.W

room = AirConditioningProcess(
    W_ai=W_supply,
    Q_lat=Q_lat,
    h_w=Qty(0.0, 'Btu / lb'),
    m_da=m_supply
)

W_zone = room.W_ao

zone_air = HumidAir(T_db=T_zone, W=W_zone)

ja.display_list([
    f"zone air humidty ratio = <b>{zone_air.W.to('lb / lb'):~P.4f}</b>",
    f"zone air relative humidity = <b>{zone_air.RH.to('pct'):~P.0f}</b>"
])


m_vent = outdoor_air.rho * V_vent
m_recir = m_supply - m_vent

mixing_chamber = AdiabaticMixing(
    in1=AirStream(state=zone_air, m_da=m_recir),
    in2=AirStream(state=outdoor_air, m_da=m_vent),
    out=AirStream(m_da=m_supply)
)

mixed_air = mixing_chamber.stream_out.state

ja.display_list([
    f"mixed air dry-bulb temperature = <b>{mixed_air.T_db.to('degF'):~P.2f}</b>",
    f"mixed air humidity ratio = <b>{mixed_air.W.to('lb / lb'):~P.4f}</b>"
])


cooling_coil = AirConditioningProcess(
    air_in=mixed_air,
    air_out=cooled_air,
    m_da=m_supply,
    h_w=Qty(0.0, 'Btu / lb')
)

ja.display_list([
    f"total cooling coil load = <b>{cooling_coil.Q.to('Btu / hr'):~P.0f}</b>"
])


psych_chart = PsychrometricChart()

psych_chart.plot_process(
    name='adiabatic mixing',
    start_point=StatePoint(outdoor_air.T_db, outdoor_air.W),
    end_point=StatePoint(zone_air.T_db, zone_air.W),
    mix_point=StatePoint(mixed_air.T_db, mixed_air.W)
)

psych_chart.plot_process(
    name='cooling coil',
    start_point=StatePoint(mixed_air.T_db, mixed_air.W),
    end_point=StatePoint(cooled_air.T_db, cooled_air.W)
)

psych_chart.plot_process(
    name='space',
    start_point=StatePoint(cooled_air.T_db, cooled_air.W),
    end_point=StatePoint(zone_air.T_db, zone_air.W)
)

psych_chart.show()


Q_h_peak = Qty(-7.5, 'kW')
Q_c_peak = Qty(6.5, 'kW')

zone_air = HumidAir(T_db=Qty(25.0, 'degC'), RH=Qty(50.0, 'pct'))

hot_air = HumidAir(T_db=Qty(40.0, 'degC'), RH=Qty(50.0, 'pct'))
cold_air = HumidAir(T_db=Qty(14.0, 'degC'), RH=Qty(95.0, 'pct'))

Q_pl = Qty(3.5, 'kW')


zone_winter = AirConditioningProcess(
    T_ai=hot_air.T_db,
    T_ao=zone_air.T_db,
    Q_sen=Q_h_peak
)
m_hot_peak = zone_winter.m_da

zone_summer = AirConditioningProcess(
    T_ai=cold_air.T_db,
    T_ao=zone_air.T_db,
    Q_sen=Q_c_peak
)
m_cold_peak = zone_summer.m_da

# The higher flow rate will be used for both heating and cooling 
# since the constant-volume dual-duct system uses a single constant-volume fan.
m_supply = max(m_hot_peak, m_cold_peak)

ja.display_list([
    f"airflow rate needed for peak heating = <b>{m_hot_peak.to('kg / s'):~P.3f}</b>",
    f"airflow rate needed for peak cooling = <b>{m_cold_peak.to('kg / s'):~P.3f}</b>",
    f"constant system airflow rate = <b>{m_supply.to('kg / s'):~P.3f}</b>"
])


zone_pl = AirConditioningProcess(
    T_ao=zone_air.T_db,
    m_da=m_supply,
    Q_sen=Q_pl
)
T_supply = zone_pl.T_ai

ja.display_list([
    f"supply air temperature entering the zone at part load = <b>{T_supply.to('degC'):~P.0f}</b>"
])


mixing_box = AdiabaticMixing(
    in1=AirStream(state=hot_air),
    in2=AirStream(state=cold_air),
    out=AirStream(T_db=T_supply, m_da=m_supply)
)

# Before the mass flow rates can be calculated, the humidity ratio of the outgoing air stream 
# needs to be calculated. Otherwise, a 'NoSolutionError' would be raised. 
W_supply = mixing_box.W_ao

m_hot_pl = mixing_box.stream_in1.m_da
m_cold_pl = mixing_box.stream_in2.m_da

ja.display_list([
    f"mass flow rate hot air at part load = <b>{m_hot_pl.to('kg /s'):~P.3f}</b>",
    f"mass flow rate cold air at part load = <b>{m_cold_pl.to('kg /s'):~P.3f}</b>",
])


cooling_coil = AirConditioningProcess(
    air_in=zone_air,
    air_out=cold_air,
    m_da=m_cold_pl,
    h_w=Qty(0.0, 'J / kg')
)
Q_cc = cooling_coil.Q_sen

heating_coil = AirConditioningProcess(
    air_in=zone_air,
    air_out=hot_air,
    m_da=m_hot_pl,
    h_w=Qty(0.0, 'J / kg')
)
Q_hc = heating_coil.Q_sen

ja.display_list([
    f"cooling coil load = <b>{Q_cc.to('kW'):~P.3f}</b>",
    f"heating coil load = <b>{Q_hc.to('kW'):~P.3f}</b>"
])



