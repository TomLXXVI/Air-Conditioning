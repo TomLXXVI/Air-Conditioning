from deps import load_packages
load_packages()


import jupyter_addons as ja
ja.set_css()


from hvac import Quantity
from hvac.fluids import HumidAir, Fluid
from hvac.air_conditioning import AirConditioningProcess, AdiabaticMixing, AirStream, SpaceConditionLine, Fan
from hvac.charts import PsychrometricChart, StatePoint


Q_ = Quantity


zone_air = HumidAir(Tdb=Q_(78, 'degF'), RH=Q_(50, 'pct'))


Q_zone = Q_(120_000, 'Btu / hr')
SHR_zone = Q_(70, 'pct')


outdoor_air = HumidAir(Tdb=Q_(95, 'degF'), RH=Q_(55, 'pct'))


V_vent = Q_(1000, 'ft ** 3 / min')


T_supply = Q_(58, 'degF')


space_condition_line = SpaceConditionLine(
    space_air=zone_air,
    Q=Q_zone,
    SHR=SHR_zone
)

psych_chart = PsychrometricChart(fig_size=(8, 6))
psych_chart.plot_space_condition_line(
    start_point=space_condition_line.start_point(),
    end_point=space_condition_line.end_point(),
    space_point=space_condition_line.space_point()
)
psych_chart.plot_line(
    name='line1',
    start_point=StatePoint(T_supply.to('degC'), Q_(0, 'g / kg')),
    end_point=StatePoint(T_supply.to('degC'), Q_(15, 'g / kg'))
)

psych_chart.show()


zone = AirConditioningProcess(
    T_ai=T_supply,
    air_out=zone_air,
    Q=Q_zone,
    SHR=SHR_zone
)
supply_air = zone.air_in
m_supply = zone.m_da

ja.display_list([
    f"supply air state: <b>{supply_air.Tdb.to('degF'):~P.1f} TDB, {supply_air.W.to('lb / lb'):~P.5f} lb<sub>w</sub>/lb<sub>da</sub></b>",
    f"supply air mass flow rate: <b>{m_supply.to('lb / hr'):~P.0f}</b>"
])


m_vent = outdoor_air.rho * V_vent
m_recir = m_supply - m_vent

ja.display_list([
    f"ventilation air mass flow rate: <b>{m_vent.to('lb / hr'):~P.0f}</b>",
    f"recirculation air mass flow rate: <b>{m_recir.to('lb / hr'):~P.0f}</b>"
])


outdoor_air_str = AirStream(state=outdoor_air, m_da=m_vent)
recir_air_str = AirStream(state=zone_air, m_da=m_recir)
mixed_air_str = AirStream(m_da=m_supply)

mixing_chamber = AdiabaticMixing(
    in1=outdoor_air_str,
    in2=recir_air_str,
    out=mixed_air_str
)
mixed_air = mixing_chamber.stream_out.state

ja.display_list([
    f"mixed air state: <b>{mixed_air.Tdb.to('degF'):~P.1f} TDB, {mixed_air.W.to('lb / lb'):~P.5f} lb<sub>w</sub>/lb<sub>da</sub></b>"
])


supply_fan = Fan(
    air_out=supply_air,
    fan_pressure=Q_(3, 'inch_H2O_60F'),
    fan_efficiency=Q_(70, 'pct'),
    motor_efficiency=Q_(84, 'pct')
)
cooled_air = supply_fan.air_in

ja.display_list([
    f"cooled air state: <b>{cooled_air.Tdb.to('degF'):~P.1f} TDB, {cooled_air.W.to('lb / lb'):~P.5f} lb<sub>w</sub>/lb<sub>da</sub></b>"
])


cooling_coil = AirConditioningProcess(
    air_in=mixed_air,
    air_out=cooled_air,
    m_da=m_supply,
)

ja.display_list([
    f"cooling coil load: <b>{cooling_coil.Q.to('Btu / hr'):~P.0f}</b>"
])


psych_chart = PsychrometricChart(fig_size=(8, 6))

psych_chart.plot_process(
    name='adiabatic mixing',
    start_point=StatePoint(outdoor_air.Tdb, outdoor_air.W),
    end_point=StatePoint(zone_air.Tdb, zone_air.W),
    mix_point=StatePoint(mixed_air.Tdb, mixed_air.W)
)

psych_chart.plot_process(
    name='cooling coil',
    start_point=StatePoint(mixed_air.Tdb, mixed_air.W),
    end_point=StatePoint(cooled_air.Tdb, cooled_air.W)
)

# psych_chart.plot_process(
#     name='fan heating',
#     start_point=StatePoint(cooled_air.Tdb, cooled_air.W),
#     end_point=StatePoint(supply_air.Tdb, supply_air.W)
# )

psych_chart.plot_process(
    name='space',
    start_point=StatePoint(supply_air.Tdb, supply_air.W),
    end_point=StatePoint(zone_air.Tdb, zone_air.W)
)

psych_chart.show()


SHR_zone = Q_(50, 'pct')


space_condition_line = SpaceConditionLine(
    space_air=zone_air,
    Q=Q_zone,
    SHR=SHR_zone
)

psych_chart = PsychrometricChart(fig_size=(8, 6))
psych_chart.plot_space_condition_line(
    start_point=space_condition_line.start_point(),
    end_point=space_condition_line.end_point(),
    space_point=space_condition_line.space_point()
)
psych_chart.plot_line(
    name='line1',
    start_point=StatePoint(Q_(-10, 'degC'), cooled_air.W.to('kg / kg')),
    end_point=StatePoint(Q_(40, 'degC'), cooled_air.W.to('kg / kg'))
)
psych_chart.plot_point(
    name='point1',
    point=StatePoint(cooled_air.Tdb.to('degC'), cooled_air.W.to('kg / kg'))
)
psych_chart.show()


zone = AirConditioningProcess(
    W_ai=cooled_air.W,
    air_out=zone_air,
    Q=Q_zone,
    SHR=SHR_zone
)
supply_air = zone.air_in
m_supply = zone.m_da

ja.display_list([
    f"supply air state: <b>{supply_air.Tdb.to('degF'):~P.1f} TDB, {supply_air.W.to('lb / lb'):~P.5f} lb<sub>w</sub>/lb<sub>da</sub></b>",
    f"supply air mass flow rate: <b>{m_supply.to('lb / hr'):~P.0f}</b>"
])


supply_fan = Fan(
    air_out=supply_air,
    fan_pressure=Q_(3, 'inch_H2O_60F'),
    fan_efficiency=Q_(70, 'pct'),
    motor_efficiency=Q_(84, 'pct'),
    m_da=m_supply
)

reheat_air = supply_fan.air_in

ja.display_list([
    f"reheated air state: <b>{reheat_air.Tdb.to('degF'):~P.1f} TDB, {reheat_air.W.to('lb / lb'):~P.5f} lb<sub>w</sub>/lb<sub>da</sub></b>"
])


reheat_coil = AirConditioningProcess(
    air_in=cooled_air,
    air_out=reheat_air,
    m_da=m_supply
)

ja.display_list([
    f"reheat coil load: <b>{reheat_coil.Q.to('Btu / hr'):~P.0f}</b>"
])


m_recir = m_supply - m_vent

recir_air_str = AirStream(state=zone_air, m_da=m_recir)
mixed_air_str = AirStream(m_da=m_supply)

mixing_chamber = AdiabaticMixing(
    in1=outdoor_air_str,
    in2=recir_air_str,
    out=mixed_air_str
)
mixed_air = mixing_chamber.stream_out.state

ja.display_list([
    f"mixed air state: <b>{mixed_air.Tdb.to('degF'):~P.1f} TDB, {mixed_air.W.to('lb / lb'):~P.5f} lb<sub>w</sub>/lb<sub>da</sub></b>"
])


cooling_coil = AirConditioningProcess(
    air_in=mixed_air,
    air_out=cooled_air,
    m_da=m_supply,
)

ja.display_list([
    f"cooling coil load: <b>{cooling_coil.Q.to('Btu / hr'):~P.0f}</b>"
])


Q_vent = m_vent * (outdoor_air.h - zone_air.h)

ja.display_list([
    f"ventilation load: <b>{Q_vent.to('Btu / hr'):~P.0f}</b>"
])


Q_in_tot = Q_zone + Q_vent + supply_fan.Q + reheat_coil.Q

ja.display_list([
    f"total heat input: <b>{Q_in_tot.to('Btu / hr'):~P.0f}</b>"
])


psych_chart = PsychrometricChart(fig_size=(8, 6))

psych_chart.plot_process(
    name='adiabatic mixing',
    start_point=StatePoint(outdoor_air.Tdb, outdoor_air.W),
    end_point=StatePoint(zone_air.Tdb, zone_air.W),
    mix_point=StatePoint(mixed_air.Tdb, mixed_air.W)
)

psych_chart.plot_process(
    name='cooling coil',
    start_point=StatePoint(mixed_air.Tdb, mixed_air.W),
    end_point=StatePoint(cooled_air.Tdb, cooled_air.W)
)

psych_chart.plot_process(
    name='reheat coil',
    start_point=StatePoint(cooled_air.Tdb, cooled_air.W),
    end_point=StatePoint(reheat_air.Tdb, reheat_air.W)
)

psych_chart.plot_process(
    name='fan heating',
    start_point=StatePoint(reheat_air.Tdb, reheat_air.W),
    end_point=StatePoint(supply_air.Tdb, supply_air.W)
)

psych_chart.plot_process(
    name='space',
    start_point=StatePoint(supply_air.Tdb, supply_air.W),
    end_point=StatePoint(zone_air.Tdb, zone_air.W)
)

psych_chart.show()


zone_air = HumidAir(Tdb=Q_(72.0, 'degF'), RH=Q_(50.0, 'pct'))


Q_zone = Q_(-150_000, 'Btu / hr')  # minus sign: heat is removed from the room
SHR_zone = Q_(0.8, 'frac')


outdoor_air = HumidAir(Tdb=Q_(40, 'degF'), RH=Q_(40, 'pct'))


V_vent = Q_(1000, 'ft ** 3 / min')


m_supply = Q_(17_140, 'lb / hr')


m_vent = outdoor_air.rho * V_vent
m_recir = m_supply - m_vent

ja.display_list([
    f"ventilation mass flow rate: <b>{m_vent.to('lb / hr'):~P.0f}</b>",
    f"recirculation mass flow rate: <b>{m_recir.to('lb / hr'):~P.0f}</b>",
])


outdoor_air_str = AirStream(state=outdoor_air, m_da=m_vent)
recir_air_str = AirStream(state=zone_air, m_da=m_recir)
mixed_air_str = AirStream(m_da=m_supply)

mixing_chamber = AdiabaticMixing(
    in1=outdoor_air_str,
    in2=recir_air_str,
    out=mixed_air_str
)
mixed_air = mixing_chamber.stream_out.state

ja.display_list([
    f"mixed air state: <b>{mixed_air.Tdb.to('degF'):~P.1f} TDB, {mixed_air.W.to('lb / lb'):~P.5f} lb<sub>w</sub>/lb<sub>da</sub></b>"
])


zone = AirConditioningProcess(
    air_out=zone_air,
    m_da=m_supply,
    Q=Q_zone,
    SHR=SHR_zone
)
supply_air = zone.air_in

ja.display_list([
    f"supply air state: <b>{supply_air.Tdb.to('degF'):~P.1f} TDB, {supply_air.W.to('lb / lb'):~P.5f} lb<sub>w</sub>/lb<sub>da</sub></b>"
])


m_steam = m_supply * (supply_air.W - mixed_air.W)

ja.display_list([
    f"steam injection rate: <b>{m_steam.to('lb / hr'):~P.3f}</b>"
])


Water = Fluid('Water')
steam = Water(T=Q_(200, 'degF'), x=Q_(100, 'pct'))


humidifier = AirConditioningProcess(
    W_ai=mixed_air.W,
    air_out=supply_air,
    m_da=m_supply,
    h_w=steam.h,
    m_w=m_steam,
    Q=Q_(0, 'Btu / lb')
)
preheated_air = humidifier.air_in

ja.display_list([
    f"preheated air state: <b>{preheated_air.Tdb.to('degF'):~P.1f} TDB, {preheated_air.W.to('lb / lb'):~P.5f} lb<sub>w</sub>/lb<sub>da</sub></b>"
])


preheat_coil = AirConditioningProcess(
    air_in=mixed_air,
    air_out=preheated_air,
    m_da=m_supply
)

ja.display_list([
    f"preheat coil capacity: <b>{preheat_coil.Q.to('Btu / hr'):~P.0f}</b>"
])


Q_vent = m_vent * (outdoor_air.h - zone_air.h)

ja.display_list([
    f"ventilation load: <b>{Q_vent.to('Btu / hr'):~P.0f}</b>"
])


Q_out_tot = Q_zone + Q_vent

ja.display_list([
    f"total heat loss: <b>{Q_out_tot.to('Btu / hr'):~P.0f}</b>"
])


Q_in_tot = preheat_coil.Q + m_steam * steam.h

ja.display_list([
    f"total heat input: <b>{Q_in_tot.to('Btu / hr'):~P.0f}</b>"
])


psych_chart = PsychrometricChart(fig_size=(8, 6))

psych_chart.plot_process(
    name='adiabatic mixing',
    start_point=StatePoint(outdoor_air.Tdb, outdoor_air.W),
    end_point=StatePoint(zone_air.Tdb, zone_air.W),
    mix_point=StatePoint(mixed_air.Tdb, mixed_air.W)
)

psych_chart.plot_process(
    name='preheat coil',
    start_point=StatePoint(mixed_air.Tdb, mixed_air.W),
    end_point=StatePoint(preheated_air.Tdb, preheated_air.W)
)

psych_chart.plot_process(
    name='steam injection',
    start_point=StatePoint(preheated_air.Tdb, preheated_air.W),
    end_point=StatePoint(supply_air.Tdb, supply_air.W)
)

psych_chart.plot_process(
    name='space',
    start_point=StatePoint(supply_air.Tdb, supply_air.W),
    end_point=StatePoint(zone_air.Tdb, zone_air.W)
)

psych_chart.show()



