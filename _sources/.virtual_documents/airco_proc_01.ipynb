from deps import load_packages

load_packages()


import jupyter_addons as ja
ja.set_css()


from hvac.air_conditioning import AirConditioningProcess


from hvac import Quantity
from hvac.fluids import HumidAir, Fluid
from hvac.charts import PsychrometricChart, StatePoint


Water = Fluid('Water')


Q_ = Quantity


air_in = HumidAir(Tdb=Q_(21, 'degC'), Twb=Q_(15, 'degC'))


air_out = HumidAir(Tdb=Q_(41, 'degC'), W=air_in.W)


V_a = Q_(1.5, 'm ** 3 / s')
m_da = air_in.rho * V_a


heating_coil = AirConditioningProcess(
    air_in=air_in,
    air_out=air_out,
    m_da=m_da,
)


ja.display_list([f"heating coil load = <b>{heating_coil.Q.to('kW'):~P.3f}</b>"])


psych_chart = PsychrometricChart(fig_size=(8, 6))
psych_chart.plot_process(
    name='sensible heating',
    start_point=StatePoint(air_in.Tdb, air_in.W),
    end_point=StatePoint(air_out.Tdb, air_out.W)
)
psych_chart.show()


air_in = HumidAir(Tdb=Q_(28.0, 'degC'), Twb=Q_(20.6, 'degC'))


air_out = HumidAir(Tdb=Q_(12.5, 'degC'), W=Q_(8.336, 'g / kg'))


V = Q_(1.5, 'm ** 3 / s')
m_da = air_in.rho * V


air_cooler = AirConditioningProcess(
    air_in=air_in,
    air_out=air_out,
    m_da=m_da,
    m_w=Q_(0.0, 'kg / s'),
    h_w=Q_(0.0, 'J / kg')
)

ja.display_list([f"cooling load = <b>{air_cooler.Q.to('kW'):~P.3f}</b>"])


ADP = air_cooler.ADP

ja.display_list([f"ADP temperature = <b>{ADP.Tdb.to('degC'):~P.1f}</b>"])


beta = air_cooler.beta

ja.display_list([f"contact factor = <b>{beta.to('frac'):~P.2f}</b>"])


psych_chart = PsychrometricChart(fig_size=(8, 6))
psych_chart.plot_process(
    name='air cooling',
    start_point=StatePoint(air_in.Tdb, air_in.W),
    end_point=StatePoint(air_out.Tdb, air_out.W)
)
psych_chart.show()


air_in = HumidAir(Tdb=Q_(38.0, 'degC'), Twb=Q_(20.0, 'degC'), P=Q_(95, 'kPa'))

ja.display_list([
    f"relative humidity of the air at inlet = <b>{air_in.RH.to('pct'):~P.0f}</b>"
])


air_out = HumidAir(Tdb=Q_(25.0, 'degC'), Twb=air_in.Twb, P=Q_(95, 'kPa'))

ja.display_list([
    f"relative humidity of the air at outlet = <b>{air_out.RH.to('pct'):~P.0f}</b>"
])


water = Water(T=Q_(20.0, 'degC'), P=Q_(95.0, 'kPa'))


adp = HumidAir(Tdb=air_in.Twb, RH=Q_(100.0, 'pct'), P=Q_(95, 'kPa'))


cooler = AirConditioningProcess(
    air_in=air_in,
    air_out=air_out,
    m_da=Q_(0.75, 'kg / s'),
    h_w=water.h,
    Q=Q_(0.0, 'W'),
    ADP=adp
)

ja.display_list([
    f"flow rate of evaporating water to the air stream = <b>{cooler.m_w.to('kg / s'):~P.3f}</b>",
    f"saturation effectiveness of the cooler = <b>{cooler.beta.to('frac'):~P.2f}</b>"
])


air_in = HumidAir(Tdb=Q_(15.0, 'degC'), Twb=Q_(10.0, 'degC'))


V_moist = Q_(1.5, 'm ** 3 / s')
m_da = air_in.rho * V_moist


air_washer = AirConditioningProcess(
    air_in=air_in,
    beta=Q_(90.0, 'pct'),
    ADP=HumidAir(Tdb=air_in.Twb, RH=Q_(100.0, 'pct')),
    m_da=m_da,
    Q=Q_(0.0, 'W')
)

ja.display_list([
    f"dry-bulb temperature = <b>{air_washer.air_out.Tdb.to('degC'):~P.1f}</b>",
    f"humidity ratio = <b>{air_washer.air_out.W.to('g/kg'):~P.0f}</b>"
])


ja.display_list([
    f"mass flow rate of make-up water = <b>{air_washer.m_w.to('kg/hr'):~P.3f}</b>"
])


psych_chart = PsychrometricChart(fig_size=(8, 6))
psych_chart.plot_process(
    name='evaporative cooling',
    start_point=StatePoint(air_washer.air_in.Tdb, air_washer.air_in.W),
    end_point=StatePoint(air_washer.air_out.Tdb, air_washer.air_out.W)
)
psych_chart.show()


air_in = HumidAir(Tdb=Q_(21.0, 'degC'), Twb=Q_(15.0, 'degC'))


m_da = Q_(1.0, 'kg / s')


m_w = Q_(0.002, 'kg / s')


water = Water(T=Q_(100.0, 'degC'), x=Q_(0.0, 'pct'))


spray_chamber = AirConditioningProcess(
    air_in=air_in,
    m_da=m_da,
    m_w=m_w,
    h_w=water.h,
    Q=Q_(0.0, 'W')
)

air_out = spray_chamber.air_out

ja.display_list([
    f"outlet air moisture content = <b>{spray_chamber.air_out.W.to('g/kg'):~P.3f}</b>",
    f"outlet air enthalpy = <b>{spray_chamber.air_out.h.to('kJ/kg'):~P.0f}</b>",
    f"outlet air dry-bulb temperature = <b>{spray_chamber.air_out.Tdb.to('degC'):~P.1f}</b>"
])


psych_chart = PsychrometricChart(fig_size=(8, 6))
psych_chart.plot_process(
    name='water injection',
    start_point=StatePoint(air_in.Tdb, air_in.W),
    end_point=StatePoint(air_out.Tdb, air_out.W)
)
psych_chart.show()


air_in = HumidAir(Tdb=Q_(28.0, 'degC'), Twb=Q_(11.9, 'degC'))


m_da = Q_(1.0, 'kg / s')


steam = Water(T=Q_(100.0, 'degC'), x=Q_(100, 'pct'))

ja.display_list([
    f"steam pressure (abs) = <b>{steam.P.to('bar'):~P.3f}</b>",
    f"steam enthalpy = <b>{steam.h.to('kJ / kg'):~P.3f}</b>"
])


m_w = Q_(0.01, 'kg / s')


steam_injection = AirConditioningProcess(
    air_in=air_in,
    m_da=m_da,
    Q=Q_(0.0, 'W'),
    h_w=steam.h,
    m_w=m_w
)

air_out = steam_injection.air_out

ja.display_list([
    f"outlet air moisture content = <b>{air_out.W.to('g/kg'):~P.3f}</b>",
    f"outlet air enthalpy = <b>{air_out.h.to('kJ/kg'):~P.3f}</b>",
    f"outlet air dry-bulb temperature = <b>{air_out.Tdb.to('degC'):~P.1f}</b>"
])


psych_chart = PsychrometricChart(fig_size=(8, 6))
psych_chart.plot_process(
    name='steam injection',
    start_point=StatePoint(air_in.Tdb, air_in.W),
    end_point=StatePoint(air_out.Tdb, air_out.W)
)
psych_chart.show()


air_in = HumidAir(Tdb=Q_(28.0, 'degC'), Twb=Q_(11.9, 'degC'))

ja.display_list([f"RH of inlet air = <b>{air_in.RH.to('pct'):~P.0f}</b>"])


m_da = Q_(1.0, 'kg / s')


steam = Water(P=Q_(30.0, 'bar'), x=Q_(100, 'pct'))

ja.display_list([
    f"steam temperature = <b>{steam.T.to('degC'):~P.1f}</b>",
    f"steam enthalpy = <b>{steam.h.to('kJ / kg'):~P.3f}</b>"
])


m_w = Q_(0.01, 'kg / s')


steam_injection = AirConditioningProcess(
    air_in=air_in,
    m_da=m_da,
    Q=Q_(0.0, 'W'),
    h_w=steam.h,
    m_w=m_w
)

air_out = steam_injection.air_out

ja.display_list([
    f"outlet air moisture content = <b>{air_out.W.to('g/kg'):~P.3f}</b>",
    f"outlet air enthalpy = <b>{air_out.h.to('kJ/kg'):~P.3f}</b>",
    f"outlet air dry-bulb temperature = <b>{air_out.Tdb.to('degC'):~P.1f}</b>"
])


psych_chart = PsychrometricChart(fig_size=(8, 6))
psych_chart.plot_process(
    name='steam injection',
    start_point=StatePoint(air_in.Tdb, air_in.W),
    end_point=StatePoint(air_out.Tdb, air_out.W)
)
psych_chart.show()


return_air_state = HumidAir(Tdb=Q_(26.0, 'degC'), RH=Q_(50.0, 'pct'))


outdoor_air_state = HumidAir(Tdb=Q_(34.0, 'degC'), RH=Q_(60.0, 'pct'))


from hvac.air_conditioning import AirStream, AdiabaticMixing


return_air = AirStream(state=return_air_state, m_da=Q_(0.7, 'kg / s'))
outdoor_air = AirStream(state=outdoor_air_state, m_da=Q_(0.3, 'kg / s'))
supply_air = AirStream(m_da=Q_(1.0, 'kg / s'))  # state still unknown


mixing_chamber = AdiabaticMixing(in1=outdoor_air, in2=return_air, out=supply_air)


supply_air = mixing_chamber.stream_out

ja.display_list([
    f"enthalpy of supply air = <b>{supply_air.state.h.to('kJ / kg'):~P.3f}</b>",
    f"humidity ratio of supply air = <b>{supply_air.state.W.to('g / kg'):~P.1f}</b>",
    f"dry-bulb temperature of supply air = <b>{supply_air.state.Tdb.to('degC'):~P.1f}</b>"
])


psych_chart = PsychrometricChart(fig_size=(8, 6))
psych_chart.plot_process(
    name='adiabatic mixing',
    start_point=StatePoint(return_air_state.Tdb, return_air_state.W),
    end_point=StatePoint(outdoor_air_state.Tdb, outdoor_air_state.W),
    mix_point=StatePoint(supply_air.state.Tdb, supply_air.state.W)
)
psych_chart.show()
