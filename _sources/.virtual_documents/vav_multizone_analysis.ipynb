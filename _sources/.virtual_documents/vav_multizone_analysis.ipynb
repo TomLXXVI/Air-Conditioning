from deps import load_packages
load_packages()


import jupyter_addons as ja
ja.set_css()


from hvac import Quantity
from hvac.fluids import HumidAir
from hvac.air_conditioning.vav_system.part_load import VAVSystem
from hvac.air_conditioning.vav_system import Zone, Season
from hvac.charts import PsychrometricChart, StatePoint


Q_ = Quantity


zone_A = Zone(
    name='zone A',
    summer=Season(
        Q_sen=Q_(143_100, 'Btu / hr'),
        Q_lat=Q_(36_000, 'Btu / hr'),
        zone_air=HumidAir(Tdb=Q_(75.0, 'degF'), RH=Q_(50, 'pct')),
        m_supply=Q_(780.7, 'lb / min')
    )
)


zone_B = Zone(
    name='zone B',
    summer=Season(
        Q_sen=Q_(91_260, 'Btu / hr'),
        Q_lat=Q_(20_000, 'Btu / hr'),
        zone_air=HumidAir(Tdb=Q_(75.0, 'degF'), RH=Q_(50, 'pct')),
        m_supply=Q_(358.7, 'lb / min')
    )
)


outdoor_air = HumidAir(Tdb=Q_(77, 'degF'), W=Q_(0.0126, 'lb / lb'))


V_vent = Q_(2400, 'ft ** 3 / min')


T_supply = Q_(55, 'degF')


vav_system = VAVSystem(
    zones=[zone_A, zone_B],
    T_supply=T_supply,
    outdoor_air=outdoor_air,
    V_vent=V_vent
)


results = vav_system.part_load_summer(
    supply_fan_efficiency=Q_(60, 'pct'),
    suppy_fan_pressure=Q_(3.0, 'inch_H2O_60F')
)


ja.display_list(
    vav_system.show_results_markdown(
        results,
        units={
            'Q': ('Btu / hr', 0),
            'V': ('ft ** 3 / min', 0),
            'K': ('degF', 1)
        }
    )
)


chart = PsychrometricChart(fig_size=(8, 6))
chart.plot_process(
    'mixing_chamber',
    StatePoint(vav_system.summer.outdoor_air.Tdb, vav_system.summer.outdoor_air.W),
    StatePoint(vav_system.summer.return_air.Tdb, vav_system.summer.return_air.W),
    StatePoint(vav_system.summer.mixed_air.Tdb, vav_system.summer.mixed_air.W)
)
chart.plot_process(
    'cooling coil',
    StatePoint(vav_system.summer.mixed_air.Tdb, vav_system.summer.mixed_air.W),
    StatePoint(vav_system.summer.cooled_air.Tdb, vav_system.summer.cooled_air.W)
)
# chart.plot_process(
#     'supply fan',
#     StatePoint(vav_system.summer.cooled_air.Tdb, vav_system.summer.cooled_air.W),
#     StatePoint(vav_system.summer.supply_air.Tdb, vav_system.summer.supply_air.W)
# )
chart.plot_process(
    'zones',
    StatePoint(vav_system.summer.supply_air.Tdb, vav_system.summer.supply_air.W),
    StatePoint(vav_system.summer.return_air.Tdb, vav_system.summer.return_air.W)
)
chart.show()


ja.display_list([
    f"return air at {zone.name}: <b>{zone.summer.return_air.Tdb.to('degF'):~P.1f} TDB, "
    f"{zone.summer.return_air.RH.to('pct'):~P.0f} RH</b>, "
    f"supply air volume flow rate: <b>{zone.summer.V_supply.to('ft ** 3 / min'):~P.0f}</b>"
    for zone in vav_system.zones
])



