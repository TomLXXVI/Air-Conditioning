from deps import load_packages
load_packages()


import jupyter_addons as ja
ja.set_css()


from hvac import Quantity
from hvac.fluids import HumidAir
from hvac.air_conditioning import AirConditioningProcess, AdiabaticMixing, AirStream, Fan


Q_ = Quantity


outdoor_air = HumidAir(Tdb=Q_(97, 'degF'), Twb=Q_(76, 'degF'))


V_vent = Q_(2400, 'ft ** 3 / min')
m_vent = outdoor_air.rho * V_vent

ja.display_list([
    f"ventilation mass flow rate: <b>{m_vent.to('lb / hr'):~P.0f}</b>"
])


supply_air = HumidAir(Tdb=Q_(75 - 20, 'degF'), RH=Q_(85, 'pct'))


zone_A = AirConditioningProcess(
    air_in=supply_air,
    T_ao=Q_(75, 'degF'),
    Q_sen=Q_(224_844, 'Btu / hr')
)
m_supply_zA = zone_A.m_da

ja.display_list([
    f"supply air mass flow rate to zone A: <b>{m_supply_zA.to('lb / min'):~P.3f}</b>"
])


zone_B = AirConditioningProcess(
    air_in=supply_air,
    T_ao=Q_(75, 'degF'),
    Q_sen=Q_(103_308, 'Btu / hr')
)
m_supply_zB = zone_B.m_da

ja.display_list([
    f"supply air mass flow rate to zone B: <b>{m_supply_zB.to('lb / min'):~P.3f}</b>"
])


m_supply = m_supply_zA + m_supply_zB

ja.display_list([
    f"total supply air mass flow rate: <b>{m_supply.to('lb / min'):~P.3f}</b>"
])


dP_fan = Q_(3.0, 'inch_H2O_60F')
eta_fan = Q_(60, 'pct')


V_supply = supply_air.v * m_supply


W_fan = V_supply * dP_fan / eta_fan

ja.display_list([
    f"supply fan power: <b>{W_fan.to('hp'):~P.0f}</b>"
])


supply_fan = Fan(
    air_out=supply_air,
    fan_efficiency=eta_fan,
    fan_pressure=dP_fan
)
dT_fan = supply_fan.air_out.Tdb - supply_fan.air_in.Tdb

ja.display_list([
    f"fan temperature rise: <b>{dT_fan.to('delta_degF'):~P.0f}</b>"
])


cooled_air = HumidAir(Tdb=supply_air.Tdb - dT_fan, RH=Q_(85, 'pct'))

ja.display_list([
    f"cooled air: <b>{cooled_air.Tdb.to('degF'):~P.0f} TDB, {cooled_air.W.to('lb / lb'):~P.5f} lb<sub>w</sub>/lb<sub>da</sub></b>"
])


zone_A = AirConditioningProcess(
    air_in=supply_air,
    T_ao=Q_(75, 'degF'),
    m_da=m_supply_zA,
    Q_sen=Q_(224_844, 'Btu / hr'),
    Q_lat=Q_(56_000, 'Btu / hr')
)
return_air_zA = zone_A.air_out

ja.display_list([
    f"return air zone A: <b>{return_air_zA.Tdb.to('degF'):~P.0f} TDB, {return_air_zA.W.to('lb / lb'):~P.5f} lb<sub>w</sub>/lb<sub>da</sub></b>"
])


zone_B = AirConditioningProcess(
    air_in=supply_air,
    T_ao=Q_(75, 'degF'),
    m_da=m_supply_zB,
    Q_sen=Q_(103_308, 'Btu / hr'),
    Q_lat=Q_(20_000, 'Btu / hr')
)
return_air_zB = zone_B.air_out

ja.display_list([
    f"return air zone B: <b>{return_air_zB.Tdb.to('degF'):~P.0f} TDB, {return_air_zB.W.to('lb / lb'):~P.5f} lb<sub>w</sub>/lb<sub>da</sub></b>"
])


return_air_mixing = AdiabaticMixing(
    in1=AirStream(state=return_air_zA, m_da=m_supply_zA),
    in2=AirStream(state=return_air_zB, m_da=m_supply_zB),
    out=AirStream(m_da=m_supply)
)
return_air = return_air_mixing.stream_out.state

ja.display_list([
    f"return air from zones: <b>{return_air.Tdb.to('degF'):~P.0f} TDB, {return_air.W.to('lb / lb'):~P.5f} lb<sub>w</sub>/lb<sub>da</sub></b>"
])


mixing_chamber = AdiabaticMixing(
    in1=AirStream(state=outdoor_air, m_da=m_vent),
    in2=AirStream(state=return_air, m_da=m_supply - m_vent),
    out=AirStream(m_da=m_supply_zA + m_supply_zB)
)
mixed_air = mixing_chamber.stream_out.state

ja.display_list([
    f"mixed air: <b>{mixed_air.Tdb.to('degF'):~P.1f} TDB, {mixed_air.W.to('lb / lb'):~P.5f} lb<sub>w</sub>/lb<sub>da</sub></b>"
])


cooling_coil = AirConditioningProcess(
    air_in=mixed_air,
    air_out=cooled_air,
    m_da=m_supply
)

ja.display_list([
    f"cooling coil load: <b>{cooling_coil.Q.to('Btu / hr'):~P.0f}</b>",
    f"cooling coil ADP: <b>{cooling_coil.ADP.Tdb.to('degF'):~P.0f} TDB, {cooling_coil.ADP.W.to('lb / lb'):~P.5f} lb<sub>w</sub>/lb<sub>da</sub></b>",
    f"cooling coil contact factor: <b>{cooling_coil.beta.to('pct'):~P.0f}</b>"
])


outdoor_air = HumidAir(Tdb=Q_(7, 'degF'), RH=Q_(0, 'pct'))  # dry air


V_vent = Q_(2400, 'ft ** 3 / min')
m_vent = outdoor_air.rho * V_vent

ja.display_list([
    f"ventilation mass flow rate: <b>{m_vent.to('lb / hr'):~P.0f}</b>"
])


preheat_coil = AirConditioningProcess(
    air_in=outdoor_air,
    T_ao=cooled_air.Tdb,
    m_da=m_vent
)
Q_preheat_peak = preheat_coil.Q_sen

ja.display_list([
    f"preheat coil peak load: <b>{Q_preheat_peak.to('Btu/hr'):~P.0f}</b>"
])


zone_A = AirConditioningProcess(
    T_ai=Q_(105, 'degF'),
    T_ao=Q_(75, 'degF'),
    Q_sen=Q_(-143_000, 'Btu / hr')
)
m_supply_zA_winter = zone_A.m_da

ja.display_list([
    f"supply air mass flow rate to zone A: <b>{m_supply_zA_winter.to('lb / min'):~P.3f}</b>"
])


m_supply_zA_winter = max(m_supply_zA_winter, 0.6 * m_supply_zA)

ja.display_list([
    f"supply air mass flow rate to zone A: <b>{m_supply_zA_winter.to('lb / min'):~P.3f}</b>"
])


zone_A = AirConditioningProcess(
    T_ao=Q_(75, 'degF'),
    m_da=m_supply_zA_winter,
    Q_sen=Q_(-143_000, 'Btu / hr')
)
T_supply_zA = zone_A.T_ai

ja.display_list([
    f"supply air temperature for zone A: <b>{T_supply_zA.to('degF'):~P.3f}</b>"
])


zone_B = AirConditioningProcess(
    T_ai=supply_air.Tdb,
    T_ao=Q_(75, 'degF'),
    Q_sen=Q_(49_092, 'Btu / hr')
)
m_supply_zB_winter = zone_B.m_da

ja.display_list([
    f"supply air mass flow rate to zone B: <b>{m_supply_zB_winter.to('lb / min'):~P.3f}</b>"
])


m_supply_zB_winter = max(m_supply_zB_winter, 0.6 * m_supply_zB)

ja.display_list([
    f"supply air mass flow rate to zone B: <b>{m_supply_zB_winter.to('lb / min'):~P.3f}</b>"
])


zone_B = AirConditioningProcess(
    T_ao=Q_(75, 'degF'),
    m_da=m_supply_zB_winter,
    Q_sen=Q_(49_092, 'Btu / hr')
)
T_supply_zB = zone_B.T_ai

ja.display_list([
    f"supply air temperature for zone B: <b>{T_supply_zB.to('degF'):~P.3f}</b>"
])


m_supply = m_supply_zA_winter + m_supply_zB_winter

ja.display_list([
    f"total supply air mass flow rate: <b>{m_supply.to('lb / min'):~P.3f}</b>"
])


supply_air = HumidAir(Tdb=min(T_supply_zA, T_supply_zB), RH=Q_(0, 'pct'))

ja.display_list([
    f"global supply air temperature: <b>{supply_air.Tdb.to('degF'):~P.3f}</b>"
])


return_air_mixing = AdiabaticMixing(
    in1=AirStream(state=HumidAir(Tdb=Q_(75, 'degF'), RH=Q_(0, 'pct')), m_da=m_supply_zA_winter),
    in2=AirStream(state=HumidAir(Tdb=Q_(75, 'degF'), RH=Q_(0, 'pct')), m_da=m_supply_zB_winter),
    out=AirStream(m_da=m_supply)
)
return_air = return_air_mixing.stream_out.state

ja.display_list([
    f"return air temperature: <b>{return_air.Tdb.to('degF'):~P.3f}</b>"
])


mixing_chamber = AdiabaticMixing(
    in1=AirStream(state=outdoor_air, m_da=m_vent),
    in2=AirStream(state=return_air, m_da=m_supply - m_vent),
    out=AirStream(m_da=m_supply)
)
mixed_air = mixing_chamber.stream_out.state

ja.display_list([
    f"mixed air temperature: <b>{mixed_air.Tdb.to('degF'):~P.3f}</b>"
])


supply_fan = Fan(
    air_out=supply_air,
    fan_efficiency=eta_fan,
    fan_pressure=dP_fan
)
dT_fan = supply_air.Tdb - supply_fan.air_in.Tdb

ja.display_list([
    f"fan temperature rise: <b>{dT_fan.to('delta_degF'):~P.0f}</b>"
])


cooled_air = HumidAir(Tdb=supply_air.Tdb - dT_fan, RH=Q_(0, 'pct'))

ja.display_list([
    f"temperature cooled air: <b>{cooled_air.Tdb.to('degF'):~P.1f}</b>"
])


preheat_coil = AirConditioningProcess(
    air_in=mixed_air,
    air_out=cooled_air,
    m_da=m_supply
)
preheated_air = cooled_air

ja.display_list([
    f"preheat coil load at design conditions: {preheat_coil.Q.to('Btu / hr'):~P.0f}"
])


cooling_coil = AirConditioningProcess(
    T_ai=preheated_air.Tdb,
    T_ao=cooled_air.Tdb,
    m_da=m_supply
)

ja.display_list([
    f"cooling coil load: <b>{cooling_coil.Q_sen.to('Btu / hr'):~P.0f}</b>"
])


reheat_coil_zA = AirConditioningProcess(
    T_ai=supply_air.Tdb,
    T_ao=T_supply_zA,
    m_da=m_supply_zA_winter
)

ja.display_list([
    f"reheat coil load: <b>{reheat_coil_zA.Q_sen.to('Btu / hr'):~P.0f}</b>"
])


reheat_coil_zB = AirConditioningProcess(
    T_ai=supply_air.Tdb,
    T_ao=T_supply_zB,
    m_da=m_supply_zB_winter
)

ja.display_list([
    f"reheat coil load: <b>{reheat_coil_zB.Q_sen.to('Btu / hr'):~P.0f}</b>"
])


Q_heat_tot = reheat_coil_zA.Q_sen + reheat_coil_zB.Q_sen + Q_preheat_peak

ja.display_list([
    f"peak heat requirement: <b>{Q_heat_tot.to('Btu / hr'):~P.0f}</b>"
])



