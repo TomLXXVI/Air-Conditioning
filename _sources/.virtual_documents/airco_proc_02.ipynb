from deps import load_packages

load_packages()


import jupyter_addons as ja
ja.set_css()


from hvac import Quantity
from hvac.fluids import HumidAir, Fluid
from hvac.charts import PsychrometricChart, StatePoint
from hvac.air_conditioning import AirConditioningProcess, AirStream, AdiabaticMixing


Q_ = Quantity
Water = Fluid('Water')


outdoor_air_state = HumidAir(Tdb=Q_(2.0, 'degC'), RH=Q_(20, 'pct'))


return_air_state = HumidAir(Tdb=Q_(23.0, 'degC'), RH=Q_(40, 'pct'))


outdoor_air = AirStream(state=outdoor_air_state, m_da=Q_(0.25 * 30.0, 'kg / min'))
return_air = AirStream(state=return_air_state, m_da=Q_(0.75 * 30.0, 'kg / min'))
mixed_air = AirStream(m_da=Q_(30.0, 'kg / min'))

mixing_chamber = AdiabaticMixing(in1=outdoor_air, in2=return_air, out=mixed_air)


mixed_air_state = mixing_chamber.stream_out.state

ja.display_list([
    f"wet-bulb temperature of supply air before heater= <b>{mixed_air_state.Twb.to('degC'):~P.1f}</b>"
])


supply_air_state = HumidAir(Tdb=Q_(35.0, 'degC'), W=mixed_air_state.W)

ja.display_list([
    f"relative humidity of supply air after heater= <b>{supply_air_state.RH.to('pct'):~P.0f}</b>"
])


heater = AirConditioningProcess(
    air_in=mixed_air_state,
    air_out=supply_air_state,
    m_da=Q_(30.0, 'kg / min'),
    m_w=Q_(0.0, 'kg / min'),
    h_w=Q_(0.0, 'J / kg')
)

ja.display_list([
    f"rate of heat input to the heater = <b>{heater.Q.to('kW'):~P.3f}</b>"
])


return_air_state = HumidAir(Tdb=Q_(30.0, 'degC'), Twb=Q_(22.0, 'degC'))


outdoor_air_state = HumidAir(Tdb=Q_(34.0, 'degC'), Twb=Q_(28.0, 'degC'))


outdoor_air = AirStream(state=outdoor_air_state, m_da=Q_(0.25 * 0.8, 'kg / s'))
return_air = AirStream(state=return_air_state, m_da=Q_(0.75 * 0.8, 'kg / s'))
mixed_air = AirStream(m_da=Q_(0.8, 'kg / s'))

mixing_chamber = AdiabaticMixing(in1=outdoor_air, in2=return_air, out=mixed_air)


mixed_air_state = mixing_chamber.stream_out.state


air_cooler = AirConditioningProcess(
    air_in=mixed_air_state,
    ADP=HumidAir(Tdb=Q_(8.0, 'degC'), RH=Q_(100.0, 'pct')),
    beta=Q_(1.0 - 0.25, 'frac'),  # contact-factor = 1 - bypass-factor
    m_da=Q_(0.8, 'kg / s'),
    h_w=Q_(0.0, 'J / kg')  # we ignore the enthalpy of condensing water from the air stream
)

ja.display_list([
    f"refrigeration capacity of the cooling coil = <b>{air_cooler.Q.to('kW'):~P.3f}</b>"
])


supply_air = air_cooler.air_out

ja.display_list([
    f"dry-bulb temperature of air leaving the cooler = <b>{supply_air.Tdb.to('degC'):~P.1f}</b>",
    f"relative humidity of air leaving the cooler = <b>{supply_air.RH.to('pct'):~P.0f}</b>"
])


psych_chart = PsychrometricChart(fig_size=(8, 6))

psych_chart.plot_process(
    name='adiabatic mixing',
    start_point=StatePoint(outdoor_air.Tdb, outdoor_air.W),
    end_point=StatePoint(return_air.Tdb, return_air.W),
    mix_point=StatePoint(mixed_air.Tdb, mixed_air.W)
)

psych_chart.plot_process(
    name='air cooler',
    start_point=StatePoint(mixed_air.Tdb, mixed_air.W),
    end_point=StatePoint(supply_air.Tdb, supply_air.W)
)

psych_chart.show()


Q_sen = Q_(23.0, 'kW')


Q_lat = Q_(0.0024, 'kg / s') * Q_(2555, 'kJ / kg')


SHR = Q_sen / (Q_sen + Q_lat)


ja.display_list([
    f"latent heat load of the room = <b>{Q_lat.to('kW'):~P.3f}</b>",
    f"sensible heat ratio of the room = <b>{SHR.to('pct'):~P.3f}</b>"
])


T_sup = Q_(15.0, 'degC')


return_air = HumidAir(Tdb=Q_(24.0, 'degC'), RH=Q_(50.0, 'pct'))


from hvac.air_conditioning import SpaceConditionLine

space_cond_line = SpaceConditionLine(
    space_air=return_air,
    Q_sen=Q_sen,
    Q_lat=Q_lat
)

psych_chart = PsychrometricChart(fig_size=(8, 6))
psych_chart.plot_space_condition_line(
    start_point=space_cond_line.start_point(),
    end_point=space_cond_line.end_point(),
    space_point=space_cond_line.space_point()
)
psych_chart.show()


room = AirConditioningProcess(
    T_ai=T_sup,
    air_out=return_air,
    SHR=SHR,
    Q_sen=Q_sen
)

supply_air = room.air_in

m_da = room.m_da

ja.display_list([
    f"relative humidity of air supplied = <b>{supply_air.RH.to('pct'):~P.0f}</b>",
    f"wet-bulb temperature of air supplied = <b>{supply_air.Twb.to('degC'):~P.1f}</b>",
    f"mass flow rate of dry air = <b>{m_da.to('kg / s'):~P.3f}</b>"
])


cooler = AirConditioningProcess(
    air_in=return_air,
    air_out=supply_air,
    m_da=m_da,
    h_w=Q_(0.0, 'J / kg')
)

ja.display_list([
    f"refrigeration capacity of cooler = <b>{cooler.Q.to('kW'):~P.3f}</b>",
    f"ADP of cooler = <b>{cooler.ADP.Tdb.to('degC'):~P.1f}, {cooler.ADP.W.to('g / kg'):~P.0f}</b>",
    f"bypass factor of cooler = <b>{(1 - cooler.beta).to('pct'):~P.1f}</b>"
])


space_cond_line = SpaceConditionLine(
    space_air=return_air,
    Q_sen=Q_sen,
    Q_lat=Q_lat
)

psych_chart = PsychrometricChart(fig_size=(8, 6))

psych_chart.plot_space_condition_line(
    start_point=space_cond_line.start_point(),
    end_point=space_cond_line.end_point(),
    space_point=space_cond_line.space_point()
)

psych_chart.plot_process(
    name='air cooler',
    start_point=StatePoint(return_air.Tdb, return_air.W),
    end_point=StatePoint(supply_air.Tdb, supply_air.W)
)

psych_chart.show()


space_air = HumidAir(Tdb=Q_(24.0, 'degC'), Twb=Q_(18.0, 'degC'))


Q_sen = Q_(11, 'kW')
Q_lat = Q_(10, 'kW')
SHR = Q_sen / (Q_sen + Q_lat)


space_cond_line = SpaceConditionLine(
    space_air=space_air,
    Q_sen=Q_sen,
    Q_lat=Q_lat
)

psych_chart = PsychrometricChart(fig_size=(8, 6))
psych_chart.plot_space_condition_line(
    start_point=space_cond_line.start_point(),
    end_point=space_cond_line.end_point(),
    space_point=space_cond_line.space_point()
)
psych_chart.show()


cooler_out = HumidAir(Tdb=Q_(12.0, 'degC'), RH=Q_(90.0, 'pct'))


space_cond_line = SpaceConditionLine(
    space_air=space_air,
    Q_sen=Q_sen,
    Q_lat=Q_lat
)

psych_chart = PsychrometricChart(fig_size=(8, 6))
psych_chart.plot_space_condition_line(
    start_point=space_cond_line.start_point(),
    end_point=space_cond_line.end_point(),
    space_point=space_cond_line.space_point()
)
psych_chart.plot_line(
    name='line',
    start_point=StatePoint(Q_(0, 'degC'), cooler_out.W),
    end_point=StatePoint(Q_(50, 'degC'), cooler_out.W)
)
psych_chart.show()


space = AirConditioningProcess(
    air_out=space_air,
    W_ai=cooler_out.W,
    SHR=SHR,
    Q_sen=Q_sen
)

supply_air = space.air_in

m_da = space.m_da

ja.display_list([
    f"dry-bulb temperature of supply air to space = <b>{supply_air.Tdb.to('degC'):~P.1f}</b>",
    f"wet-bulb temperature of supply air to space = <b>{supply_air.Twb.to('degC'):~P.1f}</b>",
    f"mass flow rate of dry air = <b>{m_da.to('kg / s'):~P.3f}</b>"
])


cooler = AirConditioningProcess(
    air_in=space_air,
    air_out=cooler_out,
    m_da=m_da,
    h_w=Q_(0.0, 'J / kg')
)

ja.display_list([
    f"refrigeration capacity of air cooler = <b>{cooler.Q.to('kW'):~P.3f}</b>",
    f"apparatus dew-point of cooling coil = <b>{cooler.ADP.Tdb.to('degC'):~P.1f}</b>",
    f"bypass factor of air cooler = <b>{1 - cooler.beta.to('frac'):~P.2f}</b>"
])


reheater = AirConditioningProcess(
    air_in=cooler_out,
    air_out=supply_air,
    m_da=m_da,
    h_w=Q_(0.0, 'J / kg')
)

ja.display_list([
    f"rate of heat input by the reheat coil = <b>{reheater.Q.to('kW'):~P.3f}</b>"
])


ja.display_list([
    f"Net heat removed from the system = <b>{cooler.Q.to('kW') + reheater.Q.to('kW'):~P.3f}</b>"
])


psych_chart = PsychrometricChart(fig_size=(8, 6))

psych_chart.plot_process(
    name='room',
    start_point=StatePoint(supply_air.Tdb, supply_air.W),
    end_point=StatePoint(space_air.Tdb, space_air.W),
)

psych_chart.plot_process(
    name='air cooler',
    start_point=StatePoint(space_air.Tdb, space_air.W),
    end_point=StatePoint(cooler_out.Tdb, cooler_out.W)
)

psych_chart.plot_process(
    name='reheater',
    start_point=StatePoint(cooler_out.Tdb, cooler_out.W),
    end_point=StatePoint(supply_air.Tdb, supply_air.W)
)

psych_chart.show()


Q_sen = Q_(14.0, 'kW')
Q_lat = Q_(9.0, 'kW')
SHR = Q_sen / (Q_sen + Q_lat)


m_da_sup = Q_(1.2, 'kg / s')


T_ret = Q_(26.0, 'degC')


ven_air = HumidAir(Tdb=Q_(34.0, 'degC'), RH=Q_(50, 'pct'))
m_da_ven = Q_(0.26, 'kg / s')


cooler_out_air = HumidAir(Tdb=Q_(6.0, 'degC'), RH=Q_(100, 'pct'))


p1 = AirConditioningProcess(
    air_in=cooler_out_air,
    T_ao=T_ret,
    SHR=SHR
)

return_air = p1.air_out

ja.display_list([
    f"wet-bulb temperature of room air = <b>{return_air.Twb.to('degC'):~P.1f}</b>"
])


p2 = AirConditioningProcess(
    air_out=return_air,
    m_da=m_da_sup,
    Q_sen=Q_sen,
    Q_lat=Q_lat,
    h_w=Q_(0.0, 'J / kg')
)

supply_air = p2.air_in

ja.display_list([
    f"dry-bulb temperature of supply air = <b>{supply_air.Tdb.to('degC'):~P.1f}</b>",
    f"relative humidity of supply air = <b>{supply_air.RH.to('pct'):~P.0f}</b>"
])


bypass_stream = AirStream(state=return_air)
cooler_out_stream = AirStream(state=cooler_out_air)
supply_stream = AirStream(state=supply_air, m_da=m_da_sup)

mix1 = AdiabaticMixing(
    in1=bypass_stream,
    in2=cooler_out_stream,
    out=supply_stream
)

ja.display_list([
    f"mass flow rate of dry air through bypass = <b>{bypass_stream.m_da.to('kg / s'):~P.3f}</b>",
    f"mass flow rate of dry air through cooler = <b>{cooler_out_stream.m_da.to('kg / s'):~P.3f}</b>"
])


m_da_exh = m_da_ven


m_da_rec = cooler_out_stream.m_da - m_da_exh


recirculated_stream = AirStream(state=return_air, m_da=m_da_rec)
ventilation_stream = AirStream(state=ven_air, m_da=m_da_ven)
cooler_in_stream = AirStream(m_da=cooler_out_stream.m_da)

mix2 = AdiabaticMixing(
    in1=recirculated_stream,
    in2=ventilation_stream,
    out=cooler_in_stream
)

cooler_in_air = mix2.stream_out.state

ja.display_list([
    f"temperature of the air entering the cooling coil = <b>{cooler_in_air.Tdb.to('degC'):~P.1f}</b>"
])


cooler = AirConditioningProcess(
    air_in=cooler_in_air,
    air_out=cooler_out_air,
    m_da=cooler_out_stream.m_da,
    h_w=Q_(0.0, 'J / kg')
)

ja.display_list([
    f"refrigeration capacity of cooling coil = <b>{cooler.Q.to('kW'):~P.3f}</b>"
])


h_i = ventilation_stream.state.h
h_f = return_air.h
Q_ven = m_da_ven * (h_i - h_f)

ja.display_list([
    f"ventilation load = <b>{Q_ven.to('kW'):~P.3f}</b>"
])


Q_gain = Q_sen + Q_lat + Q_ven

ja.display_list([
    f"total heat gain of the system = <b>{Q_gain.to('kW'):~P.3f}</b>"
])


space_air = HumidAir(Tdb=Q_(21, 'degC'), Twb=Q_(13, 'degC'))

Q_sen = Q_(-50, 'kW')
Q_lat = Q_(-10, 'kW')


T_supply = Q_(38, 'degC')


space = AirConditioningProcess(
    T_ai=T_supply,
    air_out=space_air,
    Q_sen=Q_sen,
    Q_lat=Q_lat
)
m_supply = space.m_da
supply_air = space.air_in

ja.display_list([
    f"mass flow rate of supply air: {m_supply.to('kg / s'):~P.3f}",
    f"supply air: {supply_air.Tdb.to('degC'):~P.1f}, {supply_air.W.to('g / kg'):~P.0f}"
])


return_air = space_air
outdoor_air = HumidAir(Tdb=Q_(2, 'degC'), RH=Q_(95, 'pct'))

ra_stream = AirStream(state=return_air, m_da=0.6 * m_supply)
oa_stream = AirStream(state=outdoor_air, m_da=0.4 * m_supply)
sa_stream = AirStream(m_da=m_supply)

mixing_chamber = AdiabaticMixing(
    in1=ra_stream,
    in2=oa_stream,
    out=sa_stream
)

mixed_air = mixing_chamber.stream_out.state

ja.display_list([
    f"mixed air: {mixed_air.Tdb.to('degC'):~P.1f}, {mixed_air.W.to('g / kg'):~P.0f}"
])


preheater = AirConditioningProcess(
    air_in=mixed_air,
    air_out=HumidAir(Tdb=Q_(21, 'degC'), W=mixed_air.W),
    m_da=m_supply
)

preheated_air = preheater.air_out

ja.display_list([
    f"preheater load: {preheater.Q.to('kW'):~P.3f}",
    f"preheated air: {preheated_air.Tdb.to('degC'):~P.1f}, {preheated_air.W.to('g / kg'):~P.0f}"
])


Water = Fluid('Water')
make_up_water = Water(T=preheated_air.Twb, P=Q_(101.3, 'kPa'))

air_washer = AirConditioningProcess(
    air_in=preheated_air,
    W_ao=supply_air.W,
    m_da=m_supply,
    Q=Q_(0, 'W'),
    h_w=make_up_water.h
)

humidified_air = air_washer.air_out

ja.display_list([
    f"mass flow rate of water in air washer: {air_washer.m_w.to('kg / s'):~P.3f}",
    f"saturation effectiveness of air washer: {air_washer.beta.to('pct'):~P.0f}",
    f"humidified air: {humidified_air.Tdb.to('degC'):~P.1f}, {humidified_air.W.to('g / kg'):~P.0f}"
])


reheater = AirConditioningProcess(
    air_in=air_washer.air_out,
    air_out=supply_air,
    m_da=m_supply
)

ja.display_list([
    f"reheater load: {reheater.Q.to('kW'):~P.3f}",
    f"supply air: {supply_air.Tdb.to('degC'):~P.1f}, {supply_air.W.to('g / kg'):~P.0f}"
])


psych_chart = PsychrometricChart(fig_size=(8, 6))
psych_chart.plot_process(
    name='mixing chamber',
    start_point=StatePoint(return_air.Tdb, return_air.W),
    end_point=StatePoint(outdoor_air.Tdb, outdoor_air.W),
    mix_point=StatePoint(mixed_air.Tdb, mixed_air.W)
)
psych_chart.plot_process(
    name='preheater',
    start_point=StatePoint(mixed_air.Tdb, mixed_air.W),
    end_point=StatePoint(preheated_air.Tdb, preheated_air.W)
)
psych_chart.plot_process(
    name='air washer',
    start_point=StatePoint(preheated_air.Tdb, preheated_air.W),
    end_point=StatePoint(humidified_air.Tdb, humidified_air.W)
)
psych_chart.plot_process(
    name='reheater',
    start_point=StatePoint(humidified_air.Tdb, humidified_air.W),
    end_point=StatePoint(supply_air.Tdb, supply_air.W)
)
psych_chart.plot_process(
    name='space',
    start_point=StatePoint(supply_air.Tdb, supply_air.W),
    end_point=StatePoint(return_air.Tdb, return_air.W)
)
psych_chart.show()



